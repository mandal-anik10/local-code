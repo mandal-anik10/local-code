{
 "cells": [
  {
   "cell_type": "markdown",
   "metadata": {},
   "source": [
    "# Part-1: Associated Legendre Polynomials"
   ]
  },
  {
   "cell_type": "code",
   "execution_count": 1,
   "metadata": {},
   "outputs": [],
   "source": [
    "import numpy as np\n",
    "from sympy import *\n",
    "from Integration import *\n",
    "from Factorial import *\n",
    "init_printing()"
   ]
  },
  {
   "cell_type": "code",
   "execution_count": 2,
   "metadata": {},
   "outputs": [],
   "source": [
    "x = symbols('x')"
   ]
  },
  {
   "cell_type": "code",
   "execution_count": 3,
   "metadata": {},
   "outputs": [],
   "source": [
    "#Associated Legendre Polynomials:\n",
    "def AsLP(variable, lquantum, mquantum):\n",
    "    LP = diff((variable**2-1)**lquantum, variable, lquantum)/((2**lquantum)*(Factorial(lquantum, 1, 1)))\n",
    "    aLP = ((1-variable**2)**(abs(mquantum)/2))*diff(LP, variable, abs(mquantum))\n",
    "    return aLP"
   ]
  },
  {
   "cell_type": "code",
   "execution_count": 7,
   "metadata": {
    "scrolled": true
   },
   "outputs": [
    {
     "data": {
      "image/png": "[encoded data removed]",
      "text/latex": [
       "$\\displaystyle 15 x \\left(1 - x^{2}\\right)^{1.0}$"
      ],
      "text/plain": [
       "             1.0\n",
       "     ⎛     2⎞   \n",
       "15⋅x⋅⎝1 - x ⎠   "
      ]
     },
     "execution_count": 7,
     "metadata": {},
     "output_type": "execute_result"
    }
   ],
   "source": [
    "#input\n",
    "l = 3\n",
    "m = 2\n",
    "\n",
    "y=AsLP(x, l, m)\n",
    "y"
   ]
  },
  {
   "cell_type": "code",
   "execution_count": 8,
   "metadata": {
    "scrolled": true
   },
   "outputs": [
    {
     "data": {
      "text/plain": [
       "15*x*(1 - x**2)**1.0"
      ]
     },
     "execution_count": 8,
     "metadata": {},
     "output_type": "execute_result"
    }
   ],
   "source": [
    "init_printing(pretty_print=False)\n",
    "y"
   ]
  },
  {
   "cell_type": "markdown",
   "metadata": {},
   "source": [
    "# Part-2: Functions and Plotting"
   ]
  },
  {
   "cell_type": "code",
   "execution_count": 9,
   "metadata": {},
   "outputs": [],
   "source": [
    "import matplotlib.pyplot as plt\n",
    "from mpl_toolkits.mplot3d import axes3d\n",
    "from matplotlib import cm,colors\n",
    "%matplotlib notebook"
   ]
  },
  {
   "cell_type": "code",
   "execution_count": 10,
   "metadata": {},
   "outputs": [],
   "source": [
    "(n, m) = (100, 100)\n",
    "theta = np.linspace(0, np.pi, n)\n",
    "phi = np.linspace(0, 2*np.pi, m)\n",
    "theta, phi = np.meshgrid(theta, phi)\n",
    "\n",
    "xx = np.sin(theta)*np.cos(phi)\n",
    "yy = np.sin(theta)*np.sin(phi)\n",
    "zz = np.cos(theta)"
   ]
  },
  {
   "cell_type": "code",
   "execution_count": 11,
   "metadata": {},
   "outputs": [],
   "source": [
    "#function:\n",
    "def f(x):\n",
    "    y = 15*x*(1 - x**2)**1.0\n",
    "    return y\n",
    "\n",
    "if m <= 0:\n",
    "    eps = 1\n",
    "    norm = (((4*np.pi/(2*l+1))*(Factorial(l+abs(m),1,1)/Factorial(l-abs(m),1,1)))**0.5)/eps\n",
    "else:\n",
    "    eps=(-1)**m\n",
    "    norm = (((4*np.pi/(2*l+1))*(Factorial(l+abs(m),1,1)/Factorial(l-abs(m),1,1)))**0.5)/eps\n",
    "\n",
    "\n",
    "FR = f(np.cos(theta))*np.cos(m*phi)/norm\n",
    "FI = f(np.cos(theta))*np.sin(m*phi)/norm\n",
    "\n",
    "Mr, mr = FR.max(), FR.min()\n",
    "Mi, mi = FI.max(), FI.min()"
   ]
  },
  {
   "cell_type": "code",
   "execution_count": 15,
   "metadata": {},
   "outputs": [],
   "source": [
    "#plotting:\n",
    "fig = plt.figure(figsize=plt.figaspect(1.),dpi=200)\n",
    "ax = fig.add_subplot(111,projection=\"3d\")\n",
    "\n",
    "CLre = (FR-mr)/(Mr-mr)\n",
    "CLim = (FI-mi)/(Mi-mi)\n",
    "\n",
    "ax.plot_surface(xx, yy, zz, rstride=1, cstride=1, facecolors=cm.seismic(CLre))\n",
    "ax.set_axis_off()\n",
    "plt.savefig('SpHar(3,2).png')"
   ]
  },
  {
   "cell_type": "code",
   "execution_count": null,
   "metadata": {},
   "outputs": [],
   "source": []
  },
  {
   "cell_type": "code",
   "execution_count": null,
   "metadata": {},
   "outputs": [],
   "source": []
  },
  {
   "cell_type": "code",
   "execution_count": null,
   "metadata": {},
   "outputs": [],
   "source": []
  }
 ],
 "metadata": {
  "kernelspec": {
   "display_name": "Python 3",
   "language": "python",
   "name": "python3"
  },
  "language_info": {
   "codemirror_mode": {
    "name": "ipython",
    "version": 3
   },
   "file_extension": ".py",
   "mimetype": "text/x-python",
   "name": "python",
   "nbconvert_exporter": "python",
   "pygments_lexer": "ipython3",
   "version": "3.7.4"
  }
 },
 "nbformat": 4,
 "nbformat_minor": 2
}
