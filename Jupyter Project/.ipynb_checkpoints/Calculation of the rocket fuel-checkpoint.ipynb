{
 "cells": [
  {
   "cell_type": "markdown",
   "metadata": {},
   "source": [
    "# Calculationof the required rocket fuel :"
   ]
  },
  {
   "cell_type": "code",
   "execution_count": 1,
   "metadata": {},
   "outputs": [],
   "source": [
    "import numpy as np\n",
    "import matplotlib.pyplot as plt\n",
    "%matplotlib inline"
   ]
  },
  {
   "cell_type": "code",
   "execution_count": 2,
   "metadata": {},
   "outputs": [],
   "source": [
    "G = 6.67*10**(-11)      #Nm^2kg^-2\n",
    "Me = 5.972*10**24       #kg\n",
    "Re = 6400*10**3        #m"
   ]
  },
  {
   "cell_type": "code",
   "execution_count": 3,
   "metadata": {},
   "outputs": [],
   "source": [
    "M = 1+99     #mass of the satellite + mass of the structure of rocket\n",
    "ed = 10*6    #J/kg\n",
    "h = 300*10**3     #m"
   ]
  },
  {
   "cell_type": "markdown",
   "metadata": {},
   "source": [
    "METHOD ONE:"
   ]
  },
  {
   "cell_type": "code",
   "execution_count": 6,
   "metadata": {},
   "outputs": [
    {
     "name": "stdout",
     "output_type": "stream",
     "text": [
      "Required fuel: -66.66674868489162\n",
      "Mission Failed\n"
     ]
    }
   ],
   "source": [
    "u = G*M*Me*((1/Re)-(1/(2*(Re+h))))\n",
    "v = ed-G*Me*((1/Re)-(1/(2*(Re+h))))*3/2\n",
    "Ml = u/v\n",
    "print('Required fuel:',Ml)\n",
    "if Ml<0:\n",
    "    print('Mission Failed')"
   ]
  },
  {
   "cell_type": "markdown",
   "metadata": {},
   "source": [
    "METHOD TWO:"
   ]
  },
  {
   "cell_type": "code",
   "execution_count": null,
   "metadata": {},
   "outputs": [],
   "source": []
  }
 ],
 "metadata": {
  "kernelspec": {
   "display_name": "Python 3",
   "language": "python",
   "name": "python3"
  },
  "language_info": {
   "codemirror_mode": {
    "name": "ipython",
    "version": 3
   },
   "file_extension": ".py",
   "mimetype": "text/x-python",
   "name": "python",
   "nbconvert_exporter": "python",
   "pygments_lexer": "ipython3",
   "version": "3.7.4"
  }
 },
 "nbformat": 4,
 "nbformat_minor": 2
}
