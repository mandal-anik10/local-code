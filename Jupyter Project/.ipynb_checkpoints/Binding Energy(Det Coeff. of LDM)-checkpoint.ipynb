{
 "cells": [
  {
   "cell_type": "markdown",
   "metadata": {},
   "source": [
    "# Determination of the Coefficients of BE equation of LDM :"
   ]
  },
  {
   "cell_type": "code",
   "execution_count": 3,
   "metadata": {},
   "outputs": [],
   "source": [
    "\n",
    "import numpy as np\n",
    "\n",
    "elm    = ['D', 'Al', 'Sr', 'Nb', 'Ac']\n",
    "aM = [2.014102, 26.98153, 87.905612, 143.91009, 227.02775]\n",
    "Z = [1,13,38,60,89]\n",
    "N = [1,14,50,84,138]\n",
    "A = [2,27,88,144,227]\n",
    "\n",
    "hM = 1.00725\n",
    "nM = 1.008665\n",
    "\n",
    "c = 3*10**8\n",
    "u = 1.6605402*10**(-27)    #kg\n",
    "e = 1.602*10**(-19)    #Coulomb\n",
    "uBE = (u*c**2)/(e*10**6)    #MeV\n",
    "\n",
    "BE = []\n",
    "fB = []"
   ]
  },
  {
   "cell_type": "code",
   "execution_count": 4,
   "metadata": {},
   "outputs": [
    {
     "name": "stdout",
     "output_type": "stream",
     "text": [
      "Element =  D 1  Binding Energy =  1.6913254958425499 And fB =  0.8456627479212749\n",
      "Element =  Al 13  Binding Energy =  218.32372078988493 And fB =  8.086063732958701\n",
      "Element =  Sr 38  Binding Energy =  749.2376040154962 And fB =  8.514063681994275\n",
      "Element =  Nb 60  Binding Energy =  1168.6937900865153 And fB =  8.115929097823022\n",
      "Element =  Ac 89  Binding Energy =  1691.5773755359446 And fB =  7.4518827116120905\n"
     ]
    }
   ],
   "source": [
    "for i in range(len(Z)):\n",
    "    be = ((Z[i]*hM+N[i]*nM)-aM[i])*uBE\n",
    "    BE.append(be)\n",
    "    fB.append(be/A[i])\n",
    "    print(\"Element = \",elm[i], Z[i],\" Binding Energy = \",BE[i],\"And fB = \",fB[i])"
   ]
  },
  {
   "cell_type": "code",
   "execution_count": 15,
   "metadata": {},
   "outputs": [
    {
     "name": "stdout",
     "output_type": "stream",
     "text": [
      "1.0 \t 0.7937005259840997 \t 0.0 \t 0.0 \t -0.29730177875068026 \t 0.8456627479212749\n",
      "1.0 \t 0.33333333333333326 \t 1.9259259259259258 \t 0.0013717421124828531 \t 0 \t 8.086063732958701\n",
      "1.0 \t 0.22482215651130455 \t 3.5920449097147076 \t 0.01859504132231405 \t 0.00039550804669534945 \t 8.514063681994275\n",
      "1.0 \t 0.19078570709222195 \t 4.6901486326837905 \t 0.027777777777777776 \t 0.00016705736955718338 \t 8.115929097823022\n",
      "1.0 \t 0.16392985230732826 \t 5.655940983572666 \t 0.046595121193890816 \t 0 \t 7.4518827116120905\n"
     ]
    }
   ],
   "source": [
    "Cv = []\n",
    "Csr = []\n",
    "Cc = []\n",
    "Csym = []\n",
    "Cp = []\n",
    "\n",
    "for i in range (len(elm)):\n",
    "    cv = A[i]/A[i]\n",
    "    csr = (A[i]**2)**(1/3)/A[i]\n",
    "    cc = (Z[i]*(Z[i]-1))/(A[i]*A[i]**(1/3))\n",
    "    csym = ((A[i]-2*Z[i])**2)/(A[i]*A[i])\n",
    "    \n",
    "    if Z[i]%2==0 and N[i]%2 ==0:\n",
    "        cp = 1/(A[i]*(A[i]**3)**(1/4))\n",
    "    elif Z[i]%2==1 and N[i]%2==1:\n",
    "        cp = - 1/(A[i]*(A[i]**3)**(1/4))\n",
    "    else:\n",
    "        cp = 0\n",
    "        \n",
    "    Cv.append(cv)\n",
    "    Csr.append(csr)\n",
    "    Cc.append(cc)\n",
    "    Csym.append(csym)\n",
    "    Cp.append(cp)\n",
    "\n",
    "    print(Cv[i],'\\t',Csr[i],'\\t',Cc[i],'\\t',Csym[i],'\\t',Cp[i],'\\t',fB[i])"
   ]
  },
  {
   "cell_type": "code",
   "execution_count": null,
   "metadata": {},
   "outputs": [],
   "source": []
  },
  {
   "cell_type": "code",
   "execution_count": 1,
   "metadata": {},
   "outputs": [],
   "source": [
    "#1 av*Cv[1] - asr*Csr[1] - ac*Cc[1] - asym*Csym[1] + ap*Cp[1] = BE[1]   equ(1)\n",
    "#2 av*Cv[2] - asr*Csr[2] - ac*Cc[2] - asym*Csym[2] + ap*Cp[2] = BE[2]   equ(2)\n",
    "#1 av*Cv[3] - asr*Csr[3] - ac*Cc[3] - asym*Csym[3] + ap*Cp[3] = BE[3]   equ(3)\n",
    "#1 av*Cv[4] - asr*Csr[4] - ac*Cc[4] - asym*Csym[4] + ap*Cp[4] = BE[4]   equ(4)\n",
    "#1 av*Cv[5] - asr*Csr[5] - ac*Cc[5] - asym*Csym[5] + ap*Cp[5] = BE[5]   equ(5)"
   ]
  },
  {
   "cell_type": "code",
   "execution_count": 40,
   "metadata": {},
   "outputs": [
    {
     "data": {
      "image/png": "[encoded data removed]",
      "text/plain": [
       "<Figure size 432x288 with 1 Axes>"
      ]
     },
     "metadata": {
      "needs_background": "light"
     },
     "output_type": "display_data"
    },
    {
     "data": {
      "text/plain": [
       "<Figure size 432x288 with 0 Axes>"
      ]
     },
     "metadata": {},
     "output_type": "display_data"
    }
   ],
   "source": [
    "import numpy as np\n",
    "import matplotlib.pyplot as plt\n",
    "%matplotlib inline\n",
    "\n",
    "# Calculated Values of the coefficients:\n",
    "(av, asr, ac, asym, ap) =(16.11040, 19.52574, 0.77, 23.6471, -0.78577) #MeV\n",
    "\n",
    "AA = np.linspace(1,300,300)\n",
    "FB = []\n",
    "\n",
    "def z(A):\n",
    "    zp = (A/2)*(1/(1+0.0078*A**(2/3)))\n",
    "    return zp\n",
    "\n",
    "for i in range(len(AA)):\n",
    "    fbe = av\n",
    "    fbe = fbe - asr*(AA[i])**(-1/3) \n",
    "    fbe = fbe - ac*(z(AA[i])*(z(AA[i])-1))/(AA[i]**(4/3))\n",
    "    fbe = fbe - asym*((AA[i]-2*z(AA[i]))**2)/(AA[i]**2) \n",
    "    fbe = fbe - ap/(AA[i]**(7/4))\n",
    "    FB.append(fbe)\n",
    "    \n",
    "for i in range(len(FB)):\n",
    "    if FB[i]>=FB[i-1] and FB[i]>=FB[i+1]:\n",
    "        Amx = AA[i]\n",
    "        \n",
    "plt.plot(AA,FB,'.-r')\n",
    "plt.grid()\n",
    "plt.suptitle(\"Binding Energy Per Nucleon VS Atomic Mass \")\n",
    "plt.title('Using LDM and Bethe-Weisarcar Mass Formula')\n",
    "plt.legend(['$f^B vs A$'])\n",
    "plt.xlabel('Atomic Mass number (A)\\nEstimated most stable nuclei:A ='+str(Amx)+'  Z ='+str(z(Amx)))\n",
    "plt.ylabel('Binding Energy per nucleon $(f^B)$')\n",
    "plt.show()\n",
    "plt.savefig('fB.png')"
   ]
  },
  {
   "cell_type": "code",
   "execution_count": null,
   "metadata": {},
   "outputs": [],
   "source": []
  }
 ],
 "metadata": {
  "kernelspec": {
   "display_name": "Python 3",
   "language": "python",
   "name": "python3"
  },
  "language_info": {
   "codemirror_mode": {
    "name": "ipython",
    "version": 3
   },
   "file_extension": ".py",
   "mimetype": "text/x-python",
   "name": "python",
   "nbconvert_exporter": "python",
   "pygments_lexer": "ipython3",
   "version": "3.7.4"
  }
 },
 "nbformat": 4,
 "nbformat_minor": 2
}
