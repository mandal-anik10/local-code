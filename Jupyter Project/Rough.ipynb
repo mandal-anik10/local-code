{
 "cells": [
  {
   "cell_type": "markdown",
   "metadata": {},
   "source": [
    "# Bacic concepts:\n"
   ]
  },
  {
   "cell_type": "code",
   "execution_count": 7,
   "metadata": {},
   "outputs": [
    {
     "name": "stdout",
     "output_type": "stream",
     "text": [
      "   Major Axis,A (AU)  Time Period (Earth Year)\n",
      "0           0.774196                    0.2410\n",
      "1           1.446000                    0.6156\n",
      "2           2.000000                    1.0000\n",
      "3           3.048000                    1.8807\n",
      "4          10.408800                   11.8565\n",
      "5          19.705200                   29.4000\n",
      "6          38.436800                   84.0200\n",
      "7          60.220000                  164.7900\n",
      "8          79.000000                  247.9200\n",
      "[2.41000e-01 6.15600e-01 1.00000e+00 1.88070e+00 1.18565e+01 2.94000e+01\n",
      " 8.40200e+01 1.64790e+02 2.47920e+02]\n"
     ]
    }
   ],
   "source": [
    "import pandas as pd\n",
    "a = pd.read_csv(r'C:\\Users\\Anik Mandal\\Desktop\\Planet Data.csv')\n",
    "print(a)\n",
    "print(a['Time Period (Earth Year)'].values)"
   ]
  },
  {
   "cell_type": "code",
   "execution_count": null,
   "metadata": {},
   "outputs": [],
   "source": [
    "A = np.array[2.41000e-01 6.15600e-01 1.00000e+00 1.88070e+00 1.18565e+01 2.94000e+01\n",
    " 8.40200e+01 1.64790e+02 2.47920e+02]"
   ]
  }
 ],
 "metadata": {
  "kernelspec": {
   "display_name": "Python 3",
   "language": "python",
   "name": "python3"
  },
  "language_info": {
   "codemirror_mode": {
    "name": "ipython",
    "version": 3
   },
   "file_extension": ".py",
   "mimetype": "text/x-python",
   "name": "python",
   "nbconvert_exporter": "python",
   "pygments_lexer": "ipython3",
   "version": "3.7.4"
  }
 },
 "nbformat": 4,
 "nbformat_minor": 2
}
